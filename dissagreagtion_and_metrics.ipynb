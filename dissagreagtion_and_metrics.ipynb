{
 "cells": [
  {
   "cell_type": "code",
   "execution_count": 1,
   "metadata": {
    "collapsed": false
   },
   "outputs": [],
   "source": [
    "#from _future_ import print_function, division\n",
    "from __future__ import print_function, division\n",
    "import time\n",
    "%matplotlib inline\n",
    "import matplotlib.pyplot as plt\n",
    "from matplotlib import rcParams\n",
    "rcParams['figure.figsize'] = (13,6)\n",
    "from nilmtk import DataSet,MeterGroup\n",
    "import warnings\n",
    "warnings.filterwarnings(\"ignore\")"
   ]
  },
  {
   "cell_type": "code",
   "execution_count": 2,
   "metadata": {
    "collapsed": false
   },
   "outputs": [],
   "source": [
    "train = DataSet(\"/Volumes/MacintoshHD2/Users/haroonr/Downloads/iawe.h5\")\n",
    "test  = DataSet(\"/Volumes/MacintoshHD2/Users/haroonr/Downloads/iawe.h5\")"
   ]
  },
  {
   "cell_type": "code",
   "execution_count": 3,
   "metadata": {
    "collapsed": false
   },
   "outputs": [],
   "source": [
    "#building = 1\n",
    "#train.buildings[building].elec.mains().plot()"
   ]
  },
  {
   "cell_type": "code",
   "execution_count": 4,
   "metadata": {
    "collapsed": false
   },
   "outputs": [],
   "source": [
    "train.set_window(end=\"2013-07-01\")\n",
    "test.set_window(start =\"2013-07-01\")\n",
    "train_elec = train.buildings[1].elec\n",
    "test_elec = test.buildings[1].elec"
   ]
  },
  {
   "cell_type": "code",
   "execution_count": 5,
   "metadata": {
    "collapsed": false
   },
   "outputs": [],
   "source": [
    "#train_elec.mains().plot()"
   ]
  },
  {
   "cell_type": "code",
   "execution_count": 6,
   "metadata": {
    "collapsed": false
   },
   "outputs": [],
   "source": [
    "#test_elec.mains().plot()"
   ]
  },
  {
   "cell_type": "code",
   "execution_count": 7,
   "metadata": {
    "collapsed": false
   },
   "outputs": [],
   "source": [
    "#train.buildings[1].elec"
   ]
  },
  {
   "cell_type": "code",
   "execution_count": 8,
   "metadata": {
    "collapsed": false
   },
   "outputs": [
    {
     "data": {
      "text/html": [
       "<div>\n",
       "<table border=\"1\" class=\"dataframe\">\n",
       "  <thead>\n",
       "    <tr>\n",
       "      <th>physical_quantity</th>\n",
       "      <th>voltage</th>\n",
       "      <th>power</th>\n",
       "      <th>frequency</th>\n",
       "      <th>power</th>\n",
       "      <th>current</th>\n",
       "      <th>power</th>\n",
       "    </tr>\n",
       "    <tr>\n",
       "      <th>type</th>\n",
       "      <th></th>\n",
       "      <th>apparent</th>\n",
       "      <th></th>\n",
       "      <th>active</th>\n",
       "      <th></th>\n",
       "      <th>reactive</th>\n",
       "    </tr>\n",
       "  </thead>\n",
       "  <tbody>\n",
       "    <tr>\n",
       "      <th>2013-06-07 05:30:00+05:30</th>\n",
       "      <td>235.070007</td>\n",
       "      <td>2.486</td>\n",
       "      <td>50.070000</td>\n",
       "      <td>0.111</td>\n",
       "      <td>0.011</td>\n",
       "      <td>2.483</td>\n",
       "    </tr>\n",
       "    <tr>\n",
       "      <th>2013-06-07 05:30:01+05:30</th>\n",
       "      <td>235.020004</td>\n",
       "      <td>2.555</td>\n",
       "      <td>50.080002</td>\n",
       "      <td>0.200</td>\n",
       "      <td>0.011</td>\n",
       "      <td>2.547</td>\n",
       "    </tr>\n",
       "  </tbody>\n",
       "</table>\n",
       "</div>"
      ],
      "text/plain": [
       "physical_quantity             voltage    power  frequency  power current  \\\n",
       "type                                  apparent            active           \n",
       "2013-06-07 05:30:00+05:30  235.070007    2.486  50.070000  0.111   0.011   \n",
       "2013-06-07 05:30:01+05:30  235.020004    2.555  50.080002  0.200   0.011   \n",
       "\n",
       "physical_quantity            power  \n",
       "type                      reactive  \n",
       "2013-06-07 05:30:00+05:30    2.483  \n",
       "2013-06-07 05:30:01+05:30    2.547  "
      ]
     },
     "execution_count": 8,
     "metadata": {},
     "output_type": "execute_result"
    }
   ],
   "source": [
    "# concentrate on one applaince, and see its sampling rate\n",
    "fridge_meter = train_elec[\"fridge\"]\n",
    "fridge_df = fridge_meter.load().next()\n",
    "fridge_df.head(2)"
   ]
  },
  {
   "cell_type": "code",
   "execution_count": 9,
   "metadata": {
    "collapsed": false
   },
   "outputs": [
    {
     "name": "stdout",
     "output_type": "stream",
     "text": [
      "Loading data for meter ElecMeterID(instance=2, building=1, dataset='iAWE')     \n",
      "Done loading data all meters for this chunk.\n"
     ]
    },
    {
     "data": {
      "text/html": [
       "<div>\n",
       "<table border=\"1\" class=\"dataframe\">\n",
       "  <thead>\n",
       "    <tr>\n",
       "      <th>physical_quantity</th>\n",
       "      <th>power</th>\n",
       "      <th>power factor</th>\n",
       "      <th>power</th>\n",
       "      <th>voltage</th>\n",
       "      <th>current</th>\n",
       "      <th>power</th>\n",
       "      <th>frequency</th>\n",
       "    </tr>\n",
       "    <tr>\n",
       "      <th>type</th>\n",
       "      <th>apparent</th>\n",
       "      <th>NaN</th>\n",
       "      <th>active</th>\n",
       "      <th>apparent</th>\n",
       "      <th>NaN</th>\n",
       "      <th>reactive</th>\n",
       "      <th>apparent</th>\n",
       "    </tr>\n",
       "  </thead>\n",
       "  <tbody>\n",
       "    <tr>\n",
       "      <th>2013-05-24 05:30:00+05:30</th>\n",
       "      <td>295.160004</td>\n",
       "      <td>NaN</td>\n",
       "      <td>282.744995</td>\n",
       "      <td>NaN</td>\n",
       "      <td>NaN</td>\n",
       "      <td>-52.148102</td>\n",
       "      <td>NaN</td>\n",
       "    </tr>\n",
       "    <tr>\n",
       "      <th>2013-05-24 05:30:01+05:30</th>\n",
       "      <td>307.010010</td>\n",
       "      <td>NaN</td>\n",
       "      <td>288.757996</td>\n",
       "      <td>NaN</td>\n",
       "      <td>NaN</td>\n",
       "      <td>-59.433601</td>\n",
       "      <td>NaN</td>\n",
       "    </tr>\n",
       "  </tbody>\n",
       "</table>\n",
       "</div>"
      ],
      "text/plain": [
       "physical_quantity               power power factor       power  voltage  \\\n",
       "type                         apparent          NaN      active apparent   \n",
       "2013-05-24 05:30:00+05:30  295.160004          NaN  282.744995      NaN   \n",
       "2013-05-24 05:30:01+05:30  307.010010          NaN  288.757996      NaN   \n",
       "\n",
       "physical_quantity         current      power frequency  \n",
       "type                          NaN   reactive  apparent  \n",
       "2013-05-24 05:30:00+05:30     NaN -52.148102       NaN  \n",
       "2013-05-24 05:30:01+05:30     NaN -59.433601       NaN  "
      ]
     },
     "execution_count": 9,
     "metadata": {},
     "output_type": "execute_result"
    }
   ],
   "source": [
    "mains = train_elec.mains()\n",
    "mains_df = mains.load().next()\n",
    "mains_df.head(2)"
   ]
  },
  {
   "cell_type": "code",
   "execution_count": 10,
   "metadata": {
    "collapsed": false
   },
   "outputs": [
    {
     "name": "stdout",
     "output_type": "stream",
     "text": [
      "10/10 ElecMeter(instance=12, building=1, dataset='iAWE', appliances=[Appliance(type='motor', instance=1)])"
     ]
    }
   ],
   "source": [
    "# selecting top 5 applainces based on energy consumption\n",
    "top_5_train_elec =  train_elec.submeters().select_top_k(k=5)\n",
    "#top_5_train_elec"
   ]
  },
  {
   "cell_type": "code",
   "execution_count": 11,
   "metadata": {
    "collapsed": false
   },
   "outputs": [
    {
     "name": "stdout",
     "output_type": "stream",
     "text": [
      "Training model for submeter 'ElecMeter(instance=7, building=1, dataset='iAWE', appliances=[Appliance(type='computer', instance=1)])'\n",
      "Training model for submeter 'ElecMeter(instance=5, building=1, dataset='iAWE', appliances=[Appliance(type='air conditioner', instance=2)])'\n",
      "Training model for submeter 'ElecMeter(instance=4, building=1, dataset='iAWE', appliances=[Appliance(type='air conditioner', instance=1)])'\n",
      "Training model for submeter 'ElecMeter(instance=3, building=1, dataset='iAWE', appliances=[Appliance(type='fridge', instance=1)])'\n",
      "Training model for submeter 'ElecMeter(instance=10, building=1, dataset='iAWE', appliances=[Appliance(type='television', instance=1)])'\n",
      "runtime= 13.8668880463 seconds\n"
     ]
    }
   ],
   "source": [
    "# FHMM DISSAGREGATION\n",
    "start = time.time()\n",
    "from nilmtk.disaggregate import fhmm_exact\n",
    "fhmm = fhmm_exact.FHMM()\n",
    "fhmm.train(top_5_train_elec,sample_period = 60)\n",
    "end = time.time()\n",
    "print(\"runtime=\",end - start , \"seconds\")"
   ]
  },
  {
   "cell_type": "code",
   "execution_count": 12,
   "metadata": {
    "collapsed": false
   },
   "outputs": [
    {
     "ename": "AttributeError",
     "evalue": "'MeterGroup' object has no attribute 'info'",
     "output_type": "error",
     "traceback": [
      "\u001b[0;31m---------------------------------------------------------------------------\u001b[0m",
      "\u001b[0;31mAttributeError\u001b[0m                            Traceback (most recent call last)",
      "\u001b[0;32m<ipython-input-12-e70c7d5d38b2>\u001b[0m in \u001b[0;36m<module>\u001b[0;34m()\u001b[0m\n\u001b[0;32m----> 1\u001b[0;31m \u001b[0mtop_5_train_elec\u001b[0m\u001b[0;34m.\u001b[0m\u001b[0minfo\u001b[0m\u001b[0;34m(\u001b[0m\u001b[0;34m)\u001b[0m\u001b[0;34m\u001b[0m\u001b[0m\n\u001b[0m",
      "\u001b[0;31mAttributeError\u001b[0m: 'MeterGroup' object has no attribute 'info'"
     ]
    }
   ],
   "source": [
    "top_5_train_elec.info()"
   ]
  },
  {
   "cell_type": "code",
   "execution_count": 13,
   "metadata": {
    "collapsed": false
   },
   "outputs": [],
   "source": [
    "#test_elec.mains().load(physical_quantity = 'power',ac_type='reactive').next()"
   ]
  },
  {
   "cell_type": "code",
   "execution_count": 14,
   "metadata": {
    "collapsed": false
   },
   "outputs": [
    {
     "name": "stdout",
     "output_type": "stream",
     "text": [
      "Loading data for meter ElecMeterID(instance=2, building=1, dataset='iAWE')     \n",
      "Done loading data all meters for this chunk.\n"
     ]
    },
    {
     "ename": "AttributeError",
     "evalue": "'DataFrame' object has no attribute 'good_sections'",
     "output_type": "error",
     "traceback": [
      "\u001b[0;31m---------------------------------------------------------------------------\u001b[0m",
      "\u001b[0;31mAttributeError\u001b[0m                            Traceback (most recent call last)",
      "\u001b[0;32m<ipython-input-14-ea280dd9fc2b>\u001b[0m in \u001b[0;36m<module>\u001b[0;34m()\u001b[0m\n\u001b[1;32m      7\u001b[0m \u001b[0;31m#test_elec.mains().load(physical_quantity = 'power',ac_type='reactive').next()\u001b[0m\u001b[0;34m\u001b[0m\u001b[0;34m\u001b[0m\u001b[0m\n\u001b[1;32m      8\u001b[0m \u001b[0;31m#fhmm.disaggregate(test_elec.mains().load().next()['power']['apparent'],output,sample_period=60)\u001b[0m\u001b[0;34m\u001b[0m\u001b[0;34m\u001b[0m\u001b[0m\n\u001b[0;32m----> 9\u001b[0;31m \u001b[0mfhmm\u001b[0m\u001b[0;34m.\u001b[0m\u001b[0mdisaggregate\u001b[0m\u001b[0;34m(\u001b[0m\u001b[0mtest_elec\u001b[0m\u001b[0;34m.\u001b[0m\u001b[0mmains\u001b[0m\u001b[0;34m(\u001b[0m\u001b[0;34m)\u001b[0m\u001b[0;34m.\u001b[0m\u001b[0mload\u001b[0m\u001b[0;34m(\u001b[0m\u001b[0mphysical_quantity\u001b[0m \u001b[0;34m=\u001b[0m \u001b[0;34m'power'\u001b[0m\u001b[0;34m,\u001b[0m\u001b[0mac_type\u001b[0m\u001b[0;34m=\u001b[0m\u001b[0;34m'reactive'\u001b[0m\u001b[0;34m)\u001b[0m\u001b[0;34m.\u001b[0m\u001b[0mnext\u001b[0m\u001b[0;34m(\u001b[0m\u001b[0;34m)\u001b[0m\u001b[0;34m,\u001b[0m\u001b[0moutput\u001b[0m\u001b[0;34m,\u001b[0m\u001b[0msample_period\u001b[0m\u001b[0;34m=\u001b[0m\u001b[0;36m60\u001b[0m\u001b[0;34m)\u001b[0m\u001b[0;34m\u001b[0m\u001b[0m\n\u001b[0m\u001b[1;32m     10\u001b[0m \u001b[0mouput\u001b[0m\u001b[0;34m.\u001b[0m\u001b[0mclose\u001b[0m\u001b[0;34m(\u001b[0m\u001b[0;34m)\u001b[0m\u001b[0;34m\u001b[0m\u001b[0m\n",
      "\u001b[0;32m/Volumes/MacintoshHD2/Users/haroonr/anaconda/envs/nilmtk-env/lib/python2.7/site-packages/nilmtk/disaggregate/fhmm_exact.pyc\u001b[0m in \u001b[0;36mdisaggregate\u001b[0;34m(self, mains, output_datastore, **load_kwargs)\u001b[0m\n\u001b[1;32m    372\u001b[0m \u001b[0;34m\u001b[0m\u001b[0m\n\u001b[1;32m    373\u001b[0m         \u001b[0mload_kwargs\u001b[0m\u001b[0;34m.\u001b[0m\u001b[0msetdefault\u001b[0m\u001b[0;34m(\u001b[0m\u001b[0;34m'sample_period'\u001b[0m\u001b[0;34m,\u001b[0m \u001b[0;36m60\u001b[0m\u001b[0;34m)\u001b[0m\u001b[0;34m\u001b[0m\u001b[0m\n\u001b[0;32m--> 374\u001b[0;31m         \u001b[0mload_kwargs\u001b[0m\u001b[0;34m.\u001b[0m\u001b[0msetdefault\u001b[0m\u001b[0;34m(\u001b[0m\u001b[0;34m'sections'\u001b[0m\u001b[0;34m,\u001b[0m \u001b[0mmains\u001b[0m\u001b[0;34m.\u001b[0m\u001b[0mgood_sections\u001b[0m\u001b[0;34m(\u001b[0m\u001b[0;34m)\u001b[0m\u001b[0;34m)\u001b[0m\u001b[0;34m\u001b[0m\u001b[0m\n\u001b[0m\u001b[1;32m    375\u001b[0m \u001b[0;34m\u001b[0m\u001b[0m\n\u001b[1;32m    376\u001b[0m         \u001b[0mtimeframes\u001b[0m \u001b[0;34m=\u001b[0m \u001b[0;34m[\u001b[0m\u001b[0;34m]\u001b[0m\u001b[0;34m\u001b[0m\u001b[0m\n",
      "\u001b[0;32m/Volumes/MacintoshHD2/Users/haroonr/anaconda/envs/nilmtk-env/lib/python2.7/site-packages/pandas/core/generic.pyc\u001b[0m in \u001b[0;36m__getattr__\u001b[0;34m(self, name)\u001b[0m\n\u001b[1;32m   2742\u001b[0m             \u001b[0;32mif\u001b[0m \u001b[0mname\u001b[0m \u001b[0;32min\u001b[0m \u001b[0mself\u001b[0m\u001b[0;34m.\u001b[0m\u001b[0m_info_axis\u001b[0m\u001b[0;34m:\u001b[0m\u001b[0;34m\u001b[0m\u001b[0m\n\u001b[1;32m   2743\u001b[0m                 \u001b[0;32mreturn\u001b[0m \u001b[0mself\u001b[0m\u001b[0;34m[\u001b[0m\u001b[0mname\u001b[0m\u001b[0;34m]\u001b[0m\u001b[0;34m\u001b[0m\u001b[0m\n\u001b[0;32m-> 2744\u001b[0;31m             \u001b[0;32mreturn\u001b[0m \u001b[0mobject\u001b[0m\u001b[0;34m.\u001b[0m\u001b[0m__getattribute__\u001b[0m\u001b[0;34m(\u001b[0m\u001b[0mself\u001b[0m\u001b[0;34m,\u001b[0m \u001b[0mname\u001b[0m\u001b[0;34m)\u001b[0m\u001b[0;34m\u001b[0m\u001b[0m\n\u001b[0m\u001b[1;32m   2745\u001b[0m \u001b[0;34m\u001b[0m\u001b[0m\n\u001b[1;32m   2746\u001b[0m     \u001b[0;32mdef\u001b[0m \u001b[0m__setattr__\u001b[0m\u001b[0;34m(\u001b[0m\u001b[0mself\u001b[0m\u001b[0;34m,\u001b[0m \u001b[0mname\u001b[0m\u001b[0;34m,\u001b[0m \u001b[0mvalue\u001b[0m\u001b[0;34m)\u001b[0m\u001b[0;34m:\u001b[0m\u001b[0;34m\u001b[0m\u001b[0m\n",
      "\u001b[0;31mAttributeError\u001b[0m: 'DataFrame' object has no attribute 'good_sections'"
     ]
    }
   ],
   "source": [
    "from nilmtk import HDFDataStore\n",
    "test_dat = mains_df['power']['apparent']\n",
    "#test_elec.mains(),\n",
    "disagg_filename = \"/Volumes/MacintoshHD2/Users/haroonr/Dropbox/nilmtk_work/iawe_disag_fhmm.h5\"\n",
    "output =  HDFDataStore(disagg_filename,'w')\n",
    "#fhmm.disaggregate(test_dat,output,sample_period=60)\n",
    "#test_elec.mains().load(physical_quantity = 'power',ac_type='reactive').next()\n",
    "#fhmm.disaggregate(test_elec.mains().load().next()['power']['apparent'],output,sample_period=60)\n",
    "fhmm.disaggregate(test_elec.mains().load(physical_quantity = 'power',ac_type='reactive').next(),output,sample_period=60)\n",
    "ouput.close()"
   ]
  },
  {
   "cell_type": "code",
   "execution_count": 15,
   "metadata": {
    "collapsed": false
   },
   "outputs": [
    {
     "name": "stdout",
     "output_type": "stream",
     "text": [
      "Loading data for meter ElecMeterID(instance=2, building=1, dataset='iAWE')     \n",
      "Done loading data all meters for this chunk.\n"
     ]
    },
    {
     "data": {
      "text/html": [
       "<div>\n",
       "<table border=\"1\" class=\"dataframe\">\n",
       "  <thead>\n",
       "    <tr>\n",
       "      <th>physical_quantity</th>\n",
       "      <th>power</th>\n",
       "    </tr>\n",
       "    <tr>\n",
       "      <th>type</th>\n",
       "      <th>reactive</th>\n",
       "    </tr>\n",
       "  </thead>\n",
       "  <tbody>\n",
       "    <tr>\n",
       "      <th>2013-07-01 00:00:00+05:30</th>\n",
       "      <td>77.132896</td>\n",
       "    </tr>\n",
       "    <tr>\n",
       "      <th>2013-07-01 00:00:01+05:30</th>\n",
       "      <td>77.132896</td>\n",
       "    </tr>\n",
       "    <tr>\n",
       "      <th>2013-07-01 00:00:02+05:30</th>\n",
       "      <td>77.132896</td>\n",
       "    </tr>\n",
       "    <tr>\n",
       "      <th>2013-07-01 00:00:03+05:30</th>\n",
       "      <td>81.619797</td>\n",
       "    </tr>\n",
       "    <tr>\n",
       "      <th>2013-07-01 00:00:04+05:30</th>\n",
       "      <td>81.619797</td>\n",
       "    </tr>\n",
       "  </tbody>\n",
       "</table>\n",
       "</div>"
      ],
      "text/plain": [
       "physical_quantity              power\n",
       "type                        reactive\n",
       "2013-07-01 00:00:00+05:30  77.132896\n",
       "2013-07-01 00:00:01+05:30  77.132896\n",
       "2013-07-01 00:00:02+05:30  77.132896\n",
       "2013-07-01 00:00:03+05:30  81.619797\n",
       "2013-07-01 00:00:04+05:30  81.619797"
      ]
     },
     "execution_count": 15,
     "metadata": {},
     "output_type": "execute_result"
    }
   ],
   "source": [
    "#output.close()\n",
    "#test_elec.mains().load().next()['power']['apparent']\n",
    "test_elec.mains().load(physical_quantity = 'power',ac_type='reactive').next().head()"
   ]
  },
  {
   "cell_type": "code",
   "execution_count": null,
   "metadata": {
    "collapsed": true
   },
   "outputs": [],
   "source": []
  }
 ],
 "metadata": {
  "anaconda-cloud": {},
  "kernelspec": {
   "display_name": "Python (nilmtk)",
   "language": "python",
   "name": "nilmtk-env"
  },
  "language_info": {
   "codemirror_mode": {
    "name": "ipython",
    "version": 2
   },
   "file_extension": ".py",
   "mimetype": "text/x-python",
   "name": "python",
   "nbconvert_exporter": "python",
   "pygments_lexer": "ipython2",
   "version": "2.7.13"
  }
 },
 "nbformat": 4,
 "nbformat_minor": 0
}
