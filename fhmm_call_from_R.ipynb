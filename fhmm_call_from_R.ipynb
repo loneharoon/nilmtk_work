{
 "cells": [
  {
   "cell_type": "code",
   "execution_count": null,
   "metadata": {
    "collapsed": true
   },
   "outputs": [],
   "source": [
    "import warnings\n",
    "warnings.filterwarnings(\"ignore\")\n",
    "import fhmm_support as fhm\n",
    "from hmmlearn import hmm\n",
    "import numpy as np\n",
    "np.random.seed(23)\n",
    "#matplotlib inline\n",
    "#import matplotlib.pyplot as plt\n",
    "import os\n",
    "import pandas as pd\n",
    "from collections import OrderedDict\n",
    "import time\n",
    "#import ipdb"
   ]
  },
  {
   "cell_type": "code",
   "execution_count": null,
   "metadata": {
    "collapsed": true
   },
   "outputs": [],
   "source": [
    "def divide_dataset_in_appliances(df):\n",
    "    agg_meter = df['use']\n",
    "    meters = df.columns\n",
    "    #import ipdb;ipdb.set_trace()\n",
    "    meters = meters.drop('use')\n",
    "    sub_meters = df[meters]\n",
    "    return (agg_meter,sub_meters)"
   ]
  },
  {
   "cell_type": "code",
   "execution_count": null,
   "metadata": {
    "collapsed": true
   },
   "outputs": [],
   "source": [
    "train_agg_meter,train_sub_meters = divide_dataset_in_appliances(train_dset)\n",
    "test_agg_meter,test_sub_meters = divide_dataset_in_appliances(test_dset)"
   ]
  },
  {
   "cell_type": "code",
   "execution_count": null,
   "metadata": {
    "collapsed": true
   },
   "outputs": [],
   "source": [
    "# train model for each applaince\n",
    "model = OrderedDict()\n",
    "appliances = train_sub_meters.columns\n",
    "for appliance in appliances:\n",
    "   # print appliance;\n",
    "    model[appliance] =  hmm.GaussianHMM(n_components=2,covariance_type=\"full\")\n",
    "    temp =  train_sub_meters[appliance].values.reshape(len(train_sub_meters[appliance]),1)\n",
    "    model[appliance].fit([temp])\n",
    "    \n",
    "# sort all the parameters and update new models with these \n",
    "new_learnt_models= OrderedDict()\n",
    "for appliance in model:\n",
    "    #print appliance;\n",
    "    startprob, means, covars, transmat = fhm.sort_learnt_parameters(model[appliance].startprob_, model[appliance].means_, model[appliance].covars_ , model[appliance].transmat_) \n",
    "    new_learnt_models[appliance]=hmm.GaussianHMM(startprob.size, \"full\", startprob, transmat)\n",
    "    new_learnt_models[appliance].means_ = means\n",
    "    new_learnt_models[appliance].covars_ = covars\n",
    "\n",
    "# create aggregate model\n",
    "learnt_model_combined = fhm.create_combined_hmm(new_learnt_models)\n",
    "\n",
    "temp1 = test_agg_meter.values.reshape(len(test_agg_meter),1)\n",
    "#start_time = time.time()\n",
    "new_learnt_states = learnt_model_combined.predict(temp1)\n",
    "#print('time taken %f seconds' %(time.time() - start_time))"
   ]
  },
  {
   "cell_type": "code",
   "execution_count": null,
   "metadata": {
    "collapsed": true
   },
   "outputs": [],
   "source": [
    "temp_means = OrderedDict()\n",
    "for app in model:\n",
    "    temp_means[app] = new_learnt_models[app].means_\n",
    "[decoded_states, decoded_power] = fhm.decode_hmm(len(new_learnt_states), temp_means, [appliance for appliance in model], new_learnt_states)"
   ]
  },
  {
   "cell_type": "code",
   "execution_count": null,
   "metadata": {
    "collapsed": true
   },
   "outputs": [],
   "source": [
    "decoded_power = pd.DataFrame(decoded_power)"
   ]
  }
 ],
 "metadata": {
  "kernelspec": {
   "display_name": "Python (nilmtk)",
   "language": "python",
   "name": "nilmtk-env"
  },
  "language_info": {
   "codemirror_mode": {
    "name": "ipython",
    "version": 2
   },
   "file_extension": ".py",
   "mimetype": "text/x-python",
   "name": "python",
   "nbconvert_exporter": "python",
   "pygments_lexer": "ipython2",
   "version": "2.7.13"
  }
 },
 "nbformat": 4,
 "nbformat_minor": 0
}
